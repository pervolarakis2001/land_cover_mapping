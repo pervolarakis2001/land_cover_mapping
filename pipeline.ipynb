{
 "cells": [
  {
   "cell_type": "markdown",
   "id": "bf4a6584",
   "metadata": {},
   "source": [
    "## Training U-Net for Image Segmentation"
   ]
  },
  {
   "cell_type": "code",
   "execution_count": null,
   "id": "59356204",
   "metadata": {},
   "outputs": [
    {
     "data": {
      "text/plain": [
       "{'size': (21424, 13572),\n",
       " 'crs': CRS.from_wkt('GEOGCS[\"WGS 84\",DATUM[\"WGS_1984\",SPHEROID[\"WGS 84\",6378137,298.257223563,AUTHORITY[\"EPSG\",\"7030\"]],AUTHORITY[\"EPSG\",\"6326\"]],PRIMEM[\"Greenwich\",0,AUTHORITY[\"EPSG\",\"8901\"]],UNIT[\"degree\",0.0174532925199433,AUTHORITY[\"EPSG\",\"9122\"]],AXIS[\"Latitude\",NORTH],AXIS[\"Longitude\",EAST],AUTHORITY[\"EPSG\",\"4326\"]]'),\n",
       " 'gsd': (8.333333333333333e-05, 8.333333333333333e-05),\n",
       " 'bounds': BoundingBox(left=21.331833333333332, bottom=39.12975, right=23.117166666666666, top=40.26075),\n",
       " 'transform': Affine(8.333333333333333e-05, 0.0, 21.331833333333332,\n",
       "        0.0, -8.333333333333333e-05, 40.26075),\n",
       " 'band_count': 1,\n",
       " 'tags': {'algorithm_version': 'V2.0.0',\n",
       "  'copyright': 'ESA WorldCover project 2021 / Contains modified Copernicus Sentinel data (2021) processed by ESA WorldCover consortium',\n",
       "  'creation_time': '2022-10-21 07:35:40.236136',\n",
       "  'legend': '10  Tree cover\\n20  Shrubland\\n30  Grassland\\n40  Cropland\\n50  Built-up\\n60  Bare/sparse vegetation\\n70  Snow and ice\\n80  Permanent water bodies\\n90  Herbaceous wetland\\n95  Mangroves\\n100 Moss and lichen\\n',\n",
       "  'license': 'CC-BY 4.0 - https://creativecommons.org/licenses/by/4.0/',\n",
       "  'product_crs': 'EPSG:4326',\n",
       "  'product_grid': '3x3 degree tiling grid',\n",
       "  'product_tile': 'N39E021',\n",
       "  'product_type': 'LandCover Map',\n",
       "  'product_version': 'V2.0.0',\n",
       "  'reference': 'https://esa-worldcover.org',\n",
       "  'time_end': '2021-12-31T23:59:59Z',\n",
       "  'time_start': '2021-01-01T00:00:00Z',\n",
       "  'title': 'ESA WorldCover product at 10m resolution for year 2021',\n",
       "  'AREA_OR_POINT': 'Area'},\n",
       " 'description': (None,),\n",
       " 'dtype': ('uint8',),\n",
       " 'nodata': 0.0}"
      ]
     },
     "execution_count": 5,
     "metadata": {},
     "output_type": "execute_result"
    }
   ],
   "source": [
    "import utils\n",
    "\n",
    "gt_info = utils.get_tiff_info(\n",
    "    \"/home/ubuntu/bdrs_ex_1/data/ground_truth/GBDA24_ex2_ref_data.tif\"\n",
    ")\n",
    "gt_info"
   ]
  }
 ],
 "metadata": {
  "kernelspec": {
   "display_name": "venv",
   "language": "python",
   "name": "python3"
  },
  "language_info": {
   "codemirror_mode": {
    "name": "ipython",
    "version": 3
   },
   "file_extension": ".py",
   "mimetype": "text/x-python",
   "name": "python",
   "nbconvert_exporter": "python",
   "pygments_lexer": "ipython3",
   "version": "3.12.7"
  }
 },
 "nbformat": 4,
 "nbformat_minor": 5
}
